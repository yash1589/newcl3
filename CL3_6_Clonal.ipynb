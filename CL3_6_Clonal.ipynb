{
 "cells": [
  {
   "cell_type": "code",
   "execution_count": 10,
   "id": "65fbb9d8-a439-4ef3-9de9-10ff7660b3ab",
   "metadata": {},
   "outputs": [],
   "source": [
    "import numpy as np"
   ]
  },
  {
   "cell_type": "code",
   "execution_count": 11,
   "id": "a97d2edd-4367-4d9b-b42f-e6dc10560d43",
   "metadata": {},
   "outputs": [],
   "source": [
    "def objective_function(x):\n",
    "    return x**2 - 4*x + 4"
   ]
  },
  {
   "cell_type": "code",
   "execution_count": 12,
   "id": "69554795-751d-4a08-94d6-07c323133007",
   "metadata": {},
   "outputs": [],
   "source": [
    "# Initialize population with random solutions\n",
    "def initialize_population(pop_size, lower_bound, upper_bound):\n",
    "    return np.random.uniform(lower_bound, upper_bound, pop_size)"
   ]
  },
  {
   "cell_type": "code",
   "execution_count": 13,
   "id": "10b928f5-2783-4bb9-b346-4f192c8d8770",
   "metadata": {},
   "outputs": [],
   "source": [
    "# Evaluate fitness for each individual\n",
    "def evaluate_population(population):\n",
    "    return np.array([objective_function(x) for x in population])"
   ]
  },
  {
   "cell_type": "code",
   "execution_count": 14,
   "id": "144e41e7-844a-4a52-a5b3-ee2122b4adcd",
   "metadata": {},
   "outputs": [],
   "source": [
    "# Select the best individuals (elitism)\n",
    "def select_best_individuals(population, fitness, num_selected):\n",
    "    sorted_indices = np.argsort(fitness)\n",
    "    return population[sorted_indices[:num_selected]]"
   ]
  },
  {
   "cell_type": "code",
   "execution_count": 15,
   "id": "190b28f1-6c54-4069-b1f3-2154f0430aef",
   "metadata": {},
   "outputs": [],
   "source": [
    "# Mutate the selected individuals\n",
    "def mutate(selected, mutation_rate, lower_bound, upper_bound):\n",
    "    return np.clip(selected + np.random.uniform(-mutation_rate, mutation_rate, selected.shape), lower_bound, upper_bound)"
   ]
  },
  {
   "cell_type": "code",
   "execution_count": 16,
   "id": "a9f43c30-1c5a-4ae1-a8e6-e0dc3c1fefcf",
   "metadata": {},
   "outputs": [],
   "source": [
    "def clonal_selection_algorithm(pop_size, lower_bound, upper_bound, generations, mutation_rate, num_selected):\n",
    "    # Initialize population\n",
    "    population = initialize_population(pop_size, lower_bound, upper_bound)\n",
    "    \n",
    "    # Run for a number of generations\n",
    "    for generation in range(generations):\n",
    "        # Evaluate fitness\n",
    "        fitness = evaluate_population(population)\n",
    "        \n",
    "        # Select the best solutions\n",
    "        selected = select_best_individuals(population, fitness, num_selected)\n",
    "        \n",
    "        # Mutate the selected individuals\n",
    "        mutated = mutate(selected, mutation_rate, lower_bound, upper_bound)\n",
    "        \n",
    "        # Replace the worst individuals with mutated ones\n",
    "        population[np.argsort(fitness)[:num_selected]] = mutated\n",
    "        \n",
    "        # Print the best solution in the current generation\n",
    "        best_solution = population[np.argmin(fitness)]\n",
    "        print(f\"Generation {generation+1}: Best Solution = {best_solution}, Fitness = {min(fitness)}\")\n",
    "    \n",
    "    # Return the best solution after all generations\n",
    "    return population[np.argmin(fitness)]\n"
   ]
  },
  {
   "cell_type": "code",
   "execution_count": 17,
   "id": "c1051a55-5190-4e31-8722-3c3e5b14348e",
   "metadata": {},
   "outputs": [],
   "source": [
    "# Parameters for the algorithm\n",
    "pop_size = 10          # Population size\n",
    "lower_bound = -10      # Lower bound for random solutions\n",
    "upper_bound = 10       # Upper bound for random solutions\n",
    "generations = 50       # Number of generations\n",
    "mutation_rate = 0.5    # Mutation rate\n",
    "num_selected = 5       # Number of best solutions to select"
   ]
  },
  {
   "cell_type": "code",
   "execution_count": 18,
   "id": "cb356985-36ec-485d-843d-eadb9f6c1bba",
   "metadata": {},
   "outputs": [
    {
     "name": "stdout",
     "output_type": "stream",
     "text": [
      "Generation 1: Best Solution = 1.7284854845997097, Fitness = 0.1907092796848633\n",
      "Generation 2: Best Solution = 1.9877190534410456, Fitness = 0.0737201320730545\n",
      "Generation 3: Best Solution = 1.701774263062136, Fitness = 0.00015082164838409184\n",
      "Generation 4: Best Solution = 2.189107840376436, Fitness = 0.08893859017213224\n",
      "Generation 5: Best Solution = 2.123814882301554, Fitness = 0.03576177529183955\n",
      "Generation 6: Best Solution = 2.416063045562033, Fitness = 0.01533012507934739\n",
      "Generation 7: Best Solution = 1.91808444015162, Fitness = 0.1731084578823543\n",
      "Generation 8: Best Solution = 1.9569765549506757, Fitness = 0.006710158945273381\n",
      "Generation 9: Best Solution = 2.104080052640233, Fitness = 0.0018510168239123104\n",
      "Generation 10: Best Solution = 1.6118516327628183, Fitness = 3.8458813778063927e-07\n",
      "Generation 11: Best Solution = 2.0675696828278287, Fitness = 0.04290971285921996\n",
      "Generation 12: Best Solution = 2.334080838547745, Fitness = 0.004565662037453677\n",
      "Generation 13: Best Solution = 2.1494727235856415, Fitness = 0.0030633723345441233\n",
      "Generation 14: Best Solution = 1.718448031195285, Fitness = 0.022342095096109738\n",
      "Generation 15: Best Solution = 1.8231705889962209, Fitness = 0.07927151113781106\n",
      "Generation 16: Best Solution = 2.0185775800783152, Fitness = 0.00012312910979028757\n",
      "Generation 17: Best Solution = 1.5452292900954536, Fitness = 0.0003451264815659272\n",
      "Generation 18: Best Solution = 1.9879539552911383, Fitness = 0.06916641298368287\n",
      "Generation 19: Best Solution = 1.8445342201707668, Fitness = 0.00014510719312799125\n",
      "Generation 20: Best Solution = 1.502387126948058, Fitness = 0.016563765497600524\n",
      "Generation 21: Best Solution = 1.717610205283667, Fitness = 0.01751168063561126\n",
      "Generation 22: Best Solution = 1.3879566478789684, Fitness = 0.07974399615993288\n",
      "Generation 23: Best Solution = 1.5833748530149943, Fitness = 0.374597064875549\n",
      "Generation 24: Best Solution = 1.5822696265978413, Fitness = 0.17357651310027755\n",
      "Generation 25: Best Solution = 1.9028737945761902, Fitness = 0.17449866486270693\n",
      "Generation 26: Best Solution = 2.18862113894217, Fitness = 0.009433499780028054\n",
      "Generation 27: Best Solution = 2.2312721055460925, Fitness = 0.03557793405584153\n",
      "Generation 28: Best Solution = 1.7755583944377167, Fitness = 0.053486786803722985\n",
      "Generation 29: Best Solution = 1.3130348883604415, Fitness = 0.05037403430737575\n",
      "Generation 30: Best Solution = 1.2434651799943373, Fitness = 0.4719210646099512\n",
      "Generation 31: Best Solution = 0.9486557969357025, Fitness = 0.5723449338810003\n",
      "Generation 32: Best Solution = 0.4706404477783557, Fitness = 1.105324633316903\n",
      "Generation 33: Best Solution = 0.1296306997348302, Fitness = 2.3389406399715886\n",
      "Generation 34: Best Solution = 0.1560181959364727, Fitness = 3.4982813193744207\n",
      "Generation 35: Best Solution = 0.5134665837123084, Fitness = 3.4002688937173806\n",
      "Generation 36: Best Solution = 0.7982577975642009, Fitness = 2.2097815977399557\n",
      "Generation 37: Best Solution = 0.9490520205353808, Fitness = 1.4441843211152454\n",
      "Generation 38: Best Solution = 1.3440777265965438, Fitness = 1.1044916555407656\n",
      "Generation 39: Best Solution = 1.0981783145812485, Fitness = 0.4302340287467583\n",
      "Generation 40: Best Solution = 1.1575960169777344, Fitness = 0.8132823522915178\n",
      "Generation 41: Best Solution = 1.0848272623286328, Fitness = 0.7096444706117775\n",
      "Generation 42: Best Solution = 1.1958459399462418, Fitness = 0.837541139776905\n",
      "Generation 43: Best Solution = 1.1200574157857042, Fitness = 0.6466637523009435\n",
      "Generation 44: Best Solution = 1.4686992625796735, Fitness = 0.7742989515137331\n",
      "Generation 45: Best Solution = 1.0325820519173479, Fitness = 0.2822804735833828\n",
      "Generation 46: Best Solution = 0.9024017443175315, Fitness = 0.9358974862724487\n",
      "Generation 47: Best Solution = 0.975084878634764, Fitness = 1.2047219308771977\n",
      "Generation 48: Best Solution = 0.5407663134405095, Fitness = 1.0504510060031165\n",
      "Generation 49: Best Solution = 0.28596509948664384, Fitness = 2.129362951990001\n",
      "Generation 50: Best Solution = 0.7292157202480207, Fitness = 2.937915640177831\n",
      "Best Solution: 0.7292157202480207\n"
     ]
    }
   ],
   "source": [
    "# Run the Clonal Selection Algorithm\n",
    "best_solution = clonal_selection_algorithm(pop_size, lower_bound, upper_bound, generations, mutation_rate, num_selected)\n",
    "print(f\"Best Solution: {best_solution}\")"
   ]
  },
  {
   "cell_type": "code",
   "execution_count": null,
   "id": "fed3b5f3-51df-41f3-9a95-5ac98da384cc",
   "metadata": {},
   "outputs": [],
   "source": []
  },
  {
   "cell_type": "code",
   "execution_count": null,
   "id": "eeaab8dc-571c-4c03-b9c8-e8a074878a32",
   "metadata": {},
   "outputs": [],
   "source": []
  },
  {
   "cell_type": "code",
   "execution_count": null,
   "id": "a87606e0-1ce4-4ed4-82fa-c0f6eaac392e",
   "metadata": {},
   "outputs": [],
   "source": []
  }
 ],
 "metadata": {
  "kernelspec": {
   "display_name": "Python 3 (ipykernel)",
   "language": "python",
   "name": "python3"
  },
  "language_info": {
   "codemirror_mode": {
    "name": "ipython",
    "version": 3
   },
   "file_extension": ".py",
   "mimetype": "text/x-python",
   "name": "python",
   "nbconvert_exporter": "python",
   "pygments_lexer": "ipython3",
   "version": "3.10.12"
  }
 },
 "nbformat": 4,
 "nbformat_minor": 5
}
