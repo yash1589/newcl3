{
 "cells": [
  {
   "cell_type": "markdown",
   "id": "0ce010b1-713c-4f61-9d68-eef0270c4e16",
   "metadata": {},
   "source": [
    "# 1. Fuzzy Set Operations"
   ]
  },
  {
   "cell_type": "code",
   "execution_count": 1,
   "id": "2697d392-4a41-4046-bd5b-5c1035ce471e",
   "metadata": {},
   "outputs": [],
   "source": [
    "def union(setA, setB):\n",
    "    return {x: max(setA.get(x, 0), setB.get(x, 0)) for x in set(setA) | set(setB)}\n",
    "\n",
    "def intersection(setA, setB):\n",
    "    return {x: min(setA.get(x, 0), setB.get(x, 0)) for x in set(setA) | set(setB)}\n",
    "\n",
    "def complement(setA):\n",
    "    return {x: 1 - val for x, val in setA.items()}\n",
    "\n",
    "def difference(setA, setB):\n",
    "    return {x: min(setA.get(x, 0), 1 - setB.get(x, 0)) for x in set(setA) | set(setB)}\n"
   ]
  },
  {
   "cell_type": "markdown",
   "id": "740ed965-e7d8-414c-9b4f-5166a41891d0",
   "metadata": {},
   "source": [
    "# 2. Cartesian Product to Create Fuzzy Relations"
   ]
  },
  {
   "cell_type": "code",
   "execution_count": 2,
   "id": "66016c96-bacb-4224-99d6-360c5224f93e",
   "metadata": {},
   "outputs": [],
   "source": [
    "def cartesian_product(setA, setB):\n",
    "    return { (x, y): min(setA[x], setB[y]) for x in setA for y in setB }\n"
   ]
  },
  {
   "cell_type": "markdown",
   "id": "1cd42761-8cc1-4d31-ac95-7b1adfeabe6b",
   "metadata": {},
   "source": [
    "# 3. Max-Min Composition of Two Fuzzy Relations"
   ]
  },
  {
   "cell_type": "code",
   "execution_count": 3,
   "id": "2629e410-42c7-45a9-95c8-f938de123441",
   "metadata": {},
   "outputs": [],
   "source": [
    "def max_min_composition(R1, R2):\n",
    "    result = {}\n",
    "    for x, y1 in R1:\n",
    "        for y2, z in R2:\n",
    "            if y1 == y2:\n",
    "                result[(x, z)] = max(result.get((x, z), 0), min(R1[(x, y1)], R2[(y2, z)]))\n",
    "    return result\n"
   ]
  },
  {
   "cell_type": "markdown",
   "id": "c7101126-65cd-45fb-ae11-e012dd0faf74",
   "metadata": {},
   "source": [
    "# Example Usage"
   ]
  },
  {
   "cell_type": "code",
   "execution_count": 5,
   "id": "eefe282e-862f-4422-bcda-f2418c241427",
   "metadata": {},
   "outputs": [
    {
     "name": "stdout",
     "output_type": "stream",
     "text": [
      "Union: {'y1': 0.5, 'x2': 0.7, 'x3': 1.0, 'x1': 0.2, 'y2': 0.8, 'y3': 0.3}\n",
      "Intersection: {'y1': 0, 'x2': 0, 'x3': 0, 'x1': 0, 'y2': 0, 'y3': 0}\n",
      "Complement of A: {'x1': 0.8, 'x2': 0.30000000000000004, 'x3': 0.0}\n",
      "A - B: {'y1': 0, 'x2': 0.7, 'x3': 1.0, 'x1': 0.2, 'y2': 0, 'y3': 0}\n",
      "Fuzzy Relation R1 (A × B): {('x1', 'y1'): 0.2, ('x1', 'y2'): 0.2, ('x1', 'y3'): 0.2, ('x2', 'y1'): 0.5, ('x2', 'y2'): 0.7, ('x2', 'y3'): 0.3, ('x3', 'y1'): 0.5, ('x3', 'y2'): 0.8, ('x3', 'y3'): 0.3}\n",
      "Fuzzy Relation R2 (B × C): {('y1', 'z1'): 0.5, ('y1', 'z2'): 0.5, ('y2', 'z1'): 0.6, ('y2', 'z2'): 0.8, ('y3', 'z1'): 0.3, ('y3', 'z2'): 0.3}\n",
      "Max-Min Composition (R1 ° R2): {('x1', 'z1'): 0.2, ('x1', 'z2'): 0.2, ('x2', 'z1'): 0.6, ('x2', 'z2'): 0.7, ('x3', 'z1'): 0.6, ('x3', 'z2'): 0.8}\n"
     ]
    }
   ],
   "source": [
    "# Define fuzzy sets\n",
    "A = {'x1': 0.2, 'x2': 0.7, 'x3': 1.0}\n",
    "B = {'y1': 0.5, 'y2': 0.8, 'y3': 0.3}\n",
    "\n",
    "# Operations\n",
    "print(\"Union:\", union(A, B))\n",
    "print(\"Intersection:\", intersection(A, B))\n",
    "print(\"Complement of A:\", complement(A))\n",
    "print(\"A - B:\", difference(A, B))\n",
    "\n",
    "# Fuzzy Relation (Cartesian product)\n",
    "R1 = cartesian_product(A, B)\n",
    "print(\"Fuzzy Relation R1 (A × B):\", R1)\n",
    "\n",
    "# Another fuzzy set for composition\n",
    "C = {'z1': 0.6, 'z2': 0.9}\n",
    "R2 = cartesian_product(B, C)\n",
    "print(\"Fuzzy Relation R2 (B × C):\", R2)\n",
    "\n",
    "# Max-Min Composition\n",
    "R3 = max_min_composition(R1, R2)\n",
    "print(\"Max-Min Composition (R1 ° R2):\", R3)\n"
   ]
  },
  {
   "cell_type": "code",
   "execution_count": null,
   "id": "cd4f6b19-f620-46ce-8268-56ea330222fe",
   "metadata": {},
   "outputs": [],
   "source": []
  }
 ],
 "metadata": {
  "kernelspec": {
   "display_name": "Python 3 (ipykernel)",
   "language": "python",
   "name": "python3"
  },
  "language_info": {
   "codemirror_mode": {
    "name": "ipython",
    "version": 3
   },
   "file_extension": ".py",
   "mimetype": "text/x-python",
   "name": "python",
   "nbconvert_exporter": "python",
   "pygments_lexer": "ipython3",
   "version": "3.10.12"
  }
 },
 "nbformat": 4,
 "nbformat_minor": 5
}
