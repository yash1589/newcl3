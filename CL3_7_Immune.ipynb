{
  "nbformat": 4,
  "nbformat_minor": 0,
  "metadata": {
    "colab": {
      "provenance": []
    },
    "kernelspec": {
      "name": "python3",
      "display_name": "Python 3"
    },
    "language_info": {
      "name": "python"
    }
  },
  "cells": [
    {
      "cell_type": "code",
      "execution_count": 1,
      "metadata": {
        "id": "41bh9TlG31Zo"
      },
      "outputs": [],
      "source": [
        "import random"
      ]
    },
    {
      "cell_type": "code",
      "source": [
        "# Generate random signal patterns\n",
        "def generate_pattern(length=10):\n",
        "    return [random.randint(0, 1) for _ in range(length)]\n"
      ],
      "metadata": {
        "id": "eIcoXApX33wW"
      },
      "execution_count": 2,
      "outputs": []
    },
    {
      "cell_type": "code",
      "source": [
        "# Calculate matching (Hamming distance)\n",
        "def match(p1, p2, threshold):\n",
        "    distance = sum([1 for a, b in zip(p1, p2) if a != b])\n",
        "    return distance <= threshold"
      ],
      "metadata": {
        "id": "IPhy5x4I36qx"
      },
      "execution_count": 3,
      "outputs": []
    },
    {
      "cell_type": "code",
      "source": [
        "# Generate detectors (patterns that don't match any healthy signal)\n",
        "def generate_detectors(self_set, num_detectors=20, threshold=2):\n",
        "    detectors = []\n",
        "    while len(detectors) < num_detectors:\n",
        "        candidate = generate_pattern()\n",
        "        if all(not match(candidate, self_pattern, threshold) for self_pattern in self_set):\n",
        "            detectors.append(candidate)\n",
        "    return detectors"
      ],
      "metadata": {
        "id": "TKp9lPOQ39bU"
      },
      "execution_count": 4,
      "outputs": []
    },
    {
      "cell_type": "code",
      "source": [
        "# Classify input pattern using detectors\n",
        "def classify(pattern, detectors, threshold=2):\n",
        "    for detector in detectors:\n",
        "        if match(pattern, detector, threshold):\n",
        "            return \"Damaged\"\n",
        "    return \"Healthy\""
      ],
      "metadata": {
        "id": "FfHieRb83_mr"
      },
      "execution_count": 5,
      "outputs": []
    },
    {
      "cell_type": "code",
      "source": [
        "# Simulate some self (normal) patterns\n",
        "self_patterns = [generate_pattern() for _ in range(10)]"
      ],
      "metadata": {
        "id": "ClxhlA3J4BpB"
      },
      "execution_count": 6,
      "outputs": []
    },
    {
      "cell_type": "code",
      "source": [
        "# Generate detectors based on self set\n",
        "detectors = generate_detectors(self_patterns)"
      ],
      "metadata": {
        "id": "si0-LZf74DhM"
      },
      "execution_count": 7,
      "outputs": []
    },
    {
      "cell_type": "code",
      "source": [
        "# Simulate test patterns (some normal, some damaged)\n",
        "test_patterns = self_patterns[:3]  # healthy ones\n",
        "test_patterns += [generate_pattern() for _ in range(3)]  # simulate new/damaged"
      ],
      "metadata": {
        "id": "-bL9AdR34FPo"
      },
      "execution_count": 8,
      "outputs": []
    },
    {
      "cell_type": "code",
      "source": [
        "# Classify and display results\n",
        "print(\"=== Structure Damage Classification ===\\n\")\n",
        "for i, pattern in enumerate(test_patterns):\n",
        "    result = classify(pattern, detectors)\n",
        "    print(f\"Pattern {i+1}: {pattern} → {result}\")"
      ],
      "metadata": {
        "colab": {
          "base_uri": "https://localhost:8080/"
        },
        "id": "yj_OQTwt4G3o",
        "outputId": "ef159f75-bf2d-49f9-a824-1e069e8c59ac"
      },
      "execution_count": 9,
      "outputs": [
        {
          "output_type": "stream",
          "name": "stdout",
          "text": [
            "=== Structure Damage Classification ===\n",
            "\n",
            "Pattern 1: [1, 0, 1, 0, 1, 0, 0, 1, 1, 0] → Healthy\n",
            "Pattern 2: [0, 0, 1, 1, 0, 1, 1, 1, 0, 1] → Healthy\n",
            "Pattern 3: [1, 1, 1, 0, 0, 1, 1, 0, 0, 1] → Healthy\n",
            "Pattern 4: [1, 0, 0, 1, 0, 0, 1, 0, 0, 0] → Healthy\n",
            "Pattern 5: [0, 0, 0, 0, 1, 1, 0, 0, 1, 1] → Damaged\n",
            "Pattern 6: [1, 0, 0, 1, 0, 1, 0, 1, 0, 1] → Damaged\n"
          ]
        }
      ]
    },
    {
      "cell_type": "code",
      "source": [],
      "metadata": {
        "id": "pwHWZKnQ4InH"
      },
      "execution_count": null,
      "outputs": []
    }
  ]
}