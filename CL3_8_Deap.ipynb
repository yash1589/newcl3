{
  "nbformat": 4,
  "nbformat_minor": 0,
  "metadata": {
    "colab": {
      "provenance": []
    },
    "kernelspec": {
      "name": "python3",
      "display_name": "Python 3"
    },
    "language_info": {
      "name": "python"
    }
  },
  "cells": [
    {
      "cell_type": "code",
      "source": [
        "import random\n",
        "from deap import base, creator, tools, algorithms"
      ],
      "metadata": {
        "id": "z4e5aUhI5J2A"
      },
      "execution_count": 11,
      "outputs": []
    },
    {
      "cell_type": "markdown",
      "source": [
        "# Problem: Maximize number of 1s in a binary list of length 10"
      ],
      "metadata": {
        "id": "DDGxnjG05RWt"
      }
    },
    {
      "cell_type": "code",
      "source": [
        "# Step 1: Define the fitness and individual\n",
        "creator.create(\"FitnessMax\", base.Fitness, weights=(1.0,))  # Maximize\n",
        "creator.create(\"Individual\", list, fitness=creator.FitnessMax)"
      ],
      "metadata": {
        "id": "ut423yWh5Omd"
      },
      "execution_count": 12,
      "outputs": []
    },
    {
      "cell_type": "code",
      "source": [
        "toolbox = base.Toolbox()"
      ],
      "metadata": {
        "id": "JwWWA0Q15Vvx"
      },
      "execution_count": 13,
      "outputs": []
    },
    {
      "cell_type": "code",
      "source": [
        "# Step 2: Individual and population generation\n",
        "toolbox.register(\"attr_bool\", random.randint, 0, 1)  # genes: 0 or 1\n",
        "toolbox.register(\"individual\", tools.initRepeat, creator.Individual, toolbox.attr_bool, 10)\n",
        "toolbox.register(\"population\", tools.initRepeat, list, toolbox.individual)"
      ],
      "metadata": {
        "id": "7fv231qi5XYU"
      },
      "execution_count": 14,
      "outputs": []
    },
    {
      "cell_type": "code",
      "source": [
        "# Step 3: Define the fitness function\n",
        "def eval_fitness(individual):\n",
        "    return sum(individual),  # fitness is number of 1s"
      ],
      "metadata": {
        "id": "Z8qDXWW05ZRm"
      },
      "execution_count": 15,
      "outputs": []
    },
    {
      "cell_type": "code",
      "source": [
        "toolbox.register(\"evaluate\", eval_fitness)\n",
        "toolbox.register(\"mate\", tools.cxTwoPoint)\n",
        "toolbox.register(\"mutate\", tools.mutFlipBit, indpb=0.1)  # 10% mutation chance per gene\n",
        "toolbox.register(\"select\", tools.selTournament, tournsize=3)"
      ],
      "metadata": {
        "id": "M7wJr3nK5bFA"
      },
      "execution_count": 16,
      "outputs": []
    },
    {
      "cell_type": "code",
      "source": [
        "def run_ea():\n",
        "    pop = toolbox.population(n=20)\n",
        "    hof = tools.HallOfFame(1)  # best individual tracker\n",
        "    stats = tools.Statistics(lambda ind: ind.fitness.values)\n",
        "    stats.register(\"max\", max)\n",
        "\n",
        "    pop, log = algorithms.eaSimple(pop, toolbox, cxpb=0.5, mutpb=0.2, ngen=10,\n",
        "                                   stats=stats, halloffame=hof, verbose=True)\n",
        "\n",
        "    print(\"\\nBest individual:\", hof[0])\n",
        "    print(\"Fitness:\", hof[0].fitness.values[0])"
      ],
      "metadata": {
        "id": "-n72AzR35csS"
      },
      "execution_count": 17,
      "outputs": []
    },
    {
      "cell_type": "code",
      "source": [
        "run_ea()"
      ],
      "metadata": {
        "colab": {
          "base_uri": "https://localhost:8080/"
        },
        "id": "ITM-_hdW5e69",
        "outputId": "2c6bd84f-6b08-4a07-ce1d-2286edd86dab"
      },
      "execution_count": 18,
      "outputs": [
        {
          "output_type": "stream",
          "name": "stdout",
          "text": [
            "gen\tnevals\tmax   \n",
            "0  \t20    \t(7.0,)\n",
            "1  \t18    \t(7.0,)\n",
            "2  \t12    \t(8.0,)\n",
            "3  \t8     \t(8.0,)\n",
            "4  \t13    \t(8.0,)\n",
            "5  \t12    \t(8.0,)\n",
            "6  \t10    \t(9.0,)\n",
            "7  \t11    \t(9.0,)\n",
            "8  \t12    \t(9.0,)\n",
            "9  \t8     \t(9.0,)\n",
            "10 \t15    \t(9.0,)\n",
            "\n",
            "Best individual: [1, 0, 1, 1, 1, 1, 1, 1, 1, 1]\n",
            "Fitness: 9.0\n"
          ]
        }
      ]
    },
    {
      "cell_type": "code",
      "source": [],
      "metadata": {
        "id": "O3L3QFfW5n6C"
      },
      "execution_count": null,
      "outputs": []
    }
  ]
}