{
  "nbformat": 4,
  "nbformat_minor": 0,
  "metadata": {
    "colab": {
      "provenance": []
    },
    "kernelspec": {
      "name": "python3",
      "display_name": "Python 3"
    },
    "language_info": {
      "name": "python"
    }
  },
  "cells": [
    {
      "cell_type": "code",
      "source": [
        "import random\n",
        "import math"
      ],
      "metadata": {
        "id": "O3L3QFfW5n6C"
      },
      "execution_count": 46,
      "outputs": []
    },
    {
      "cell_type": "code",
      "source": [
        "# Define coordinates of cities (you can change or expand this)\n",
        "cities = {\n",
        "    0: (0, 0),\n",
        "    1: (1, 5),\n",
        "    2: (5, 2),\n",
        "    3: (6, 6),\n",
        "    4: (8, 3)\n",
        "}"
      ],
      "metadata": {
        "id": "zRnRcRPS6VrM"
      },
      "execution_count": 47,
      "outputs": []
    },
    {
      "cell_type": "code",
      "source": [
        "num_ants = 10\n",
        "num_iterations = 100\n",
        "alpha = 1.0      # pheromone influence\n",
        "beta = 5.0       # distance influence\n",
        "evaporation = 0.5\n",
        "Q = 100"
      ],
      "metadata": {
        "id": "O2jwRnUG6fSy"
      },
      "execution_count": 48,
      "outputs": []
    },
    {
      "cell_type": "code",
      "source": [
        "def distance(a, b):\n",
        "    return math.dist(cities[a], cities[b])\n",
        "\n",
        "distances = {\n",
        "    (i, j): distance(i, j) for i in cities for j in cities if i != j\n",
        "}\n",
        "\n",
        "# Initialize pheromones\n",
        "pheromones = {\n",
        "    (i, j): 1.0 for i in cities for j in cities if i != j\n",
        "}"
      ],
      "metadata": {
        "id": "CL428CVj6hDg"
      },
      "execution_count": 49,
      "outputs": []
    },
    {
      "cell_type": "code",
      "source": [
        "def choose_next_city(ant, visited):\n",
        "    current = ant[-1]\n",
        "    probabilities = []\n",
        "    total = 0\n",
        "\n",
        "    for city in cities:\n",
        "        if city not in visited:\n",
        "            pher = pheromones[(current, city)] ** alpha\n",
        "            heuristic = (1 / distances[(current, city)]) ** beta\n",
        "            prob = pher * heuristic\n",
        "            probabilities.append((city, prob))\n",
        "            total += prob\n",
        "\n",
        "    r = random.uniform(0, total)\n",
        "    cumulative = 0\n",
        "    for city, prob in probabilities:\n",
        "        cumulative += prob\n",
        "        if r <= cumulative:\n",
        "            return city\n",
        "    return probabilities[-1][0]"
      ],
      "metadata": {
        "id": "oh1P5-PW6jCN"
      },
      "execution_count": 50,
      "outputs": []
    },
    {
      "cell_type": "code",
      "source": [
        "# Construct solution\n",
        "def construct_solution():\n",
        "    ant = [random.choice(list(cities.keys()))]\n",
        "    visited = set(ant)\n",
        "\n",
        "    while len(visited) < len(cities):\n",
        "        next_city = choose_next_city(ant, visited)\n",
        "        ant.append(next_city)\n",
        "        visited.add(next_city)\n",
        "\n",
        "    ant.append(ant[0])  # Return to start\n",
        "    return ant"
      ],
      "metadata": {
        "id": "EhiBbZ3b6lYR"
      },
      "execution_count": 51,
      "outputs": []
    },
    {
      "cell_type": "code",
      "source": [
        "# Calculate total distance of a tour\n",
        "def tour_length(tour):\n",
        "    return sum(distances[(tour[i], tour[i+1])] for i in range(len(tour) - 1))"
      ],
      "metadata": {
        "id": "kU_Iq2tG6n_3"
      },
      "execution_count": 52,
      "outputs": []
    },
    {
      "cell_type": "code",
      "source": [
        "# ACO main loop\n",
        "best_tour = None\n",
        "best_length = float(\"inf\")\n",
        "\n",
        "for iteration in range(num_iterations):\n",
        "    all_tours = []\n",
        "    for _ in range(num_ants):\n",
        "        tour = construct_solution()\n",
        "        length = tour_length(tour)\n",
        "        all_tours.append((tour, length))\n",
        "        if length < best_length:\n",
        "            best_tour = tour\n",
        "            best_length = length\n",
        "\n",
        "    # Evaporate pheromones\n",
        "    for edge in pheromones:\n",
        "        pheromones[edge] *= (1 - evaporation)\n",
        "\n",
        "    # Update pheromones\n",
        "    for tour, length in all_tours:\n",
        "        for i in range(len(tour) - 1):\n",
        "            a, b = tour[i], tour[i+1]\n",
        "            pheromones[(a, b)] += Q / length\n",
        "            pheromones[(b, a)] += Q / length  # symmetric"
      ],
      "metadata": {
        "id": "6JkUgk_F6pr4"
      },
      "execution_count": 53,
      "outputs": []
    },
    {
      "cell_type": "code",
      "source": [
        "# Final result\n",
        "print(\"\\nBest Tour Found:\")\n",
        "print(\" -> \".join(str(city) for city in best_tour))\n",
        "print(f\"Total Distance: {best_length:.2f}\")"
      ],
      "metadata": {
        "colab": {
          "base_uri": "https://localhost:8080/"
        },
        "id": "_tQJMkor6uoQ",
        "outputId": "665157af-fe9a-419c-f709-e80332aedeb2"
      },
      "execution_count": 54,
      "outputs": [
        {
          "output_type": "stream",
          "name": "stdout",
          "text": [
            "\n",
            "Best Tour Found:\n",
            "0 -> 2 -> 4 -> 3 -> 1 -> 0\n",
            "Total Distance: 22.35\n"
          ]
        }
      ]
    },
    {
      "cell_type": "code",
      "source": [],
      "metadata": {
        "id": "M9RJtdmC6zOF"
      },
      "execution_count": 54,
      "outputs": []
    }
  ]
}